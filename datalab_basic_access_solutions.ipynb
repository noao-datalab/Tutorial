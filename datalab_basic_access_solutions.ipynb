{
 "cells": [
  {
   "cell_type": "code",
   "execution_count": 6,
   "metadata": {
    "collapsed": true,
    "deletable": true,
    "editable": true,
    "slideshow": {
     "slide_type": "skip"
    }
   },
   "outputs": [],
   "source": [
    "__author__ = 'Robert Nikutta, NOAO Data Lab Team'\n",
    "__version__ = '20170505' # yyyymmdd"
   ]
  },
  {
   "cell_type": "markdown",
   "metadata": {
    "deletable": true,
    "editable": true,
    "nbpresent": {
     "id": "4883c724-b672-49bc-8d24-17f28656776b"
    },
    "slideshow": {
     "slide_type": "slide"
    }
   },
   "source": [
    "# Data Lab basic functionality - Solutions to excercises\n",
    "*Robert Nikutta & the NOAO Data Lab Team*"
   ]
  },
  {
   "cell_type": "markdown",
   "metadata": {
    "deletable": true,
    "editable": true,
    "nbpresent": {
     "id": "4988cf7b-2d95-4e1a-ae2e-16f8dd9fa42a"
    },
    "slideshow": {
     "slide_type": "slide"
    }
   },
   "source": [
    "<a class=\"anchor\" id=\"imports\"></a>\n",
    "# Module imports & setup\n",
    "Import some packages for data handling and plotting. Also import datalab code. We'll use the `helpers` module in this notebook, which hides some of the technical boilerplate."
   ]
  },
  {
   "cell_type": "code",
   "execution_count": 7,
   "metadata": {
    "collapsed": false,
    "deletable": true,
    "editable": true,
    "nbpresent": {
     "id": "7b4c3512-8106-4929-bef3-6680adbce0e0"
    },
    "slideshow": {
     "slide_type": "-"
    }
   },
   "outputs": [],
   "source": [
    "# 3rd party\n",
    "import pylab as p\n",
    "import matplotlib\n",
    "%matplotlib inline\n",
    "\n",
    "# Datalab\n",
    "from dl import helpers\n",
    "\n",
    "# plots default setup\n",
    "fontsize = 14\n",
    "p.rcParams['font.size'] =  fontsize\n",
    "p.rcParams['axes.labelsize'] = fontsize\n",
    "p.rcParams['axes.titlesize'] = fontsize\n",
    "p.rcParams['legend.fontsize'] = fontsize-2\n",
    "p.rcParams['xtick.labelsize'] = fontsize\n",
    "p.rcParams['ytick.labelsize'] = fontsize\n",
    "p.rcParams['figure.figsize'] = (7, 5.8)"
   ]
  },
  {
   "cell_type": "markdown",
   "metadata": {
    "deletable": true,
    "editable": true
   },
   "source": [
    "# _ /// Excercise 01: Log in with your proper credentials ///_\n",
    "1. Editing the cell below, create a new `Querist` helper, using your own Data Lab username and password\n",
    "2. Print the `.token` property of the helper object"
   ]
  },
  {
   "cell_type": "code",
   "execution_count": 8,
   "metadata": {
    "collapsed": false,
    "deletable": true,
    "editable": true
   },
   "outputs": [],
   "source": [
    "Q = helpers.Querist('anonymous') # when prompted, enter password\n",
    "#Q = helpers.Querist(USERNAME) # when prompted, enter password"
   ]
  },
  {
   "cell_type": "markdown",
   "metadata": {
    "deletable": true,
    "editable": true
   },
   "source": [
    "#### <font color='red'>_CAUTION! Q.token is your personal acces token, and valid across sessions! Once you're done working with a notebook, clear the authentication token by executing once:_</font>\n",
    "\n",
    "``` python\n",
    "Q.clearToken()\n",
    "```"
   ]
  },
  {
   "cell_type": "markdown",
   "metadata": {
    "deletable": true,
    "editable": true
   },
   "source": [
    "# _/// Excercise 02: modify the query & submit it ///_\n",
    "\n",
    "1. In the notebook cell below, modify the previous query such that in addition to the current constraints it also ensures that the number of objects per brick is 500 or more (hint: the column name for that is `nobjs` in table `bricks_dr3` in database `ls_dr3`.)\n",
    "\n",
    "2. Submit your query and retrieve the results as a Pandas dataframe.\n",
    "\n",
    "3. Print the last few rows of the dataframe (using the `.tail()` method)"
   ]
  },
  {
   "cell_type": "code",
   "execution_count": 9,
   "metadata": {
    "collapsed": false,
    "deletable": true,
    "editable": true
   },
   "outputs": [
    {
     "name": "stdout",
     "output_type": "stream",
     "text": [
      "Returning Pandas dataframe\n",
      "                ra    dec  nobjs  nexp_g  nexp_r  nexp_z\n",
      "144690  314.580745  26.75   3294       0       0       1\n",
      "144691  314.860248  26.75   3458       0       0       1\n",
      "144692  314.790047  27.00   3708       0       0       1\n",
      "144693  314.648986  27.25   3485       0       0       1\n",
      "144694  314.929797  27.25   2909       0       0       1\n"
     ]
    }
   ],
   "source": [
    "query = \"\"\"SELECT ra, dec, nobjs, nexp_g, nexp_r, nexp_z\n",
    "           FROM ls_dr3.bricks_dr3\n",
    "           WHERE\n",
    "             (nexp_g + nexp_r + nexp_z)>0 AND\n",
    "             nobjs>500\n",
    "        \"\"\"\n",
    "\n",
    "result = Q(query,outfmt='pandas')\n",
    "print result.tail()  # .head prints the header and a few rows of the dataframe"
   ]
  },
  {
   "cell_type": "markdown",
   "metadata": {
    "deletable": true,
    "editable": true
   },
   "source": [
    "# _/// Excercise 03: compute and plot the footprint of the SMASH survey ///_\n",
    "\n",
    "In the cell below:\n",
    "\n",
    "1. Query the database table `smash_dr1.field` for columns `glon` & `glat` (Galactic longitude and latitude of the SMASH field centers)\n",
    "2. Normalize the coordinates (glon,glat) --> (x,y) for plotting, using the helper `normalizeCoordinates()`\n",
    "3. Compute clusters, feeding the argument `method='DBSCAN'` to `findClusters()`. Omit the `n_clusters` argument entirely. ('DBSCAN' needs no prior information on how many clusters to find, is more accurate, but can be much slower with large datasets; not here though)\n",
    "4. Plot the outlines of the found clusters, i.e. the SMASH footprint."
   ]
  },
  {
   "cell_type": "code",
   "execution_count": 10,
   "metadata": {
    "collapsed": false,
    "deletable": true,
    "editable": true
   },
   "outputs": [
    {
     "name": "stdout",
     "output_type": "stream",
     "text": [
      "Returning Numpy structured / record array\n",
      "247.007001239 324.478225226\n"
     ]
    },
    {
     "data": {
      "image/png": "[encoded data removed]",
      "text/plain": [
       "<matplotlib.figure.Figure at 0x7f8af702bd50>"
      ]
     },
     "metadata": {},
     "output_type": "display_data"
    }
   ],
   "source": [
    "# 1. construct the query and submit it to the database\n",
    "query = \"SELECT glon,glat FROM smash_dr1.field\"\n",
    "result = Q(query,outfmt='structarray')\n",
    "\n",
    "print result['glon'].min(), result['glon'].max()\n",
    "\n",
    "# 2. normalize the glon & glat coordinates for plotting, using a helper\n",
    "x, y = helpers.normalizeCoordinates(result['glon'],result['glat'])\n",
    "\n",
    "# 3. compute clusters, using method='DBSCAN'\n",
    "clusters = helpers.findClusters(x,y,method='DBSCAN') # uses default argument method='MiniBatchKMeans'\n",
    "\n",
    "# 4. Plot the SMASH footprint, i.e. the convex hulls around clusters of SMASH field coordinates\n",
    "helpers.plotSkymapScatter(x,y,clusterlabels=clusters.labels_,plot='outlines',title='SMASH sky coverage',xlabel='glon',ylabel='glat')"
   ]
  },
  {
   "cell_type": "markdown",
   "metadata": {
    "deletable": true,
    "editable": true
   },
   "source": [
    "Yes it's L/R inverted, we're working on it :)"
   ]
  },
  {
   "cell_type": "markdown",
   "metadata": {
    "deletable": true,
    "editable": true
   },
   "source": [
    "**Don't forget to clear your token:**"
   ]
  },
  {
   "cell_type": "code",
   "execution_count": 11,
   "metadata": {
    "collapsed": false,
    "deletable": true,
    "editable": true
   },
   "outputs": [],
   "source": [
    "Q.clearToken()"
   ]
  }
 ],
 "metadata": {
  "anaconda-cloud": {},
  "celltoolbar": "Raw Cell Format",
  "kernelspec": {
   "display_name": "Python 2",
   "language": "python",
   "name": "python2"
  },
  "language_info": {
   "codemirror_mode": {
    "name": "ipython",
    "version": 2
   },
   "file_extension": ".py",
   "mimetype": "text/x-python",
   "name": "python",
   "nbconvert_exporter": "python",
   "pygments_lexer": "ipython2",
   "version": "2.7.13"
  },
  "nbpresent": {
   "slides": {
    "068e91e5-c84a-4851-bdd3-e7cf5261bb75": {
     "id": "068e91e5-c84a-4851-bdd3-e7cf5261bb75",
     "prev": "58be6a08-fa31-40cb-b345-a16464e5f87a",
     "regions": {
      "cf36e660-9dd2-4dd5-be1d-31ebbe9c97ae": {
       "attrs": {
        "height": 0.8,
        "width": 0.8,
        "x": 0.1,
        "y": 0.1
       },
       "content": {
        "cell": "4988cf7b-2d95-4e1a-ae2e-16f8dd9fa42a",
        "part": "whole"
       },
       "id": "cf36e660-9dd2-4dd5-be1d-31ebbe9c97ae"
      }
     }
    },
    "09ac4541-333c-4584-b458-46636484c9b5": {
     "id": "09ac4541-333c-4584-b458-46636484c9b5",
     "prev": "6db88bc4-a2f9-47ae-9139-22fbf37ded1f",
     "regions": {
      "8ba120f6-b42f-4add-954f-a49c743d42fd": {
       "attrs": {
        "height": 0.8,
        "width": 0.8,
        "x": 0.1,
        "y": 0.1
       },
       "content": {
        "cell": "c0759f0f-1697-4501-abaa-ba5c4829fd62",
        "part": "whole"
       },
       "id": "8ba120f6-b42f-4add-954f-a49c743d42fd"
      }
     }
    },
    "0ab534b3-bee1-45f1-a353-9d54b9ae5d2e": {
     "id": "0ab534b3-bee1-45f1-a353-9d54b9ae5d2e",
     "prev": "43e6fa96-a860-46c3-a9d9-b251360ffa7a",
     "regions": {
      "06d86e3d-cd87-4527-bef9-2ad5ca78e690": {
       "attrs": {
        "height": 0.8,
        "width": 0.8,
        "x": 0.1,
        "y": 0.1
       },
       "content": {
        "cell": "801fd917-cd5c-4f9e-9b13-8212235e1b40",
        "part": "whole"
       },
       "id": "06d86e3d-cd87-4527-bef9-2ad5ca78e690"
      }
     }
    },
    "0aeb88f3-b889-4ede-9d53-611b6c08d3b6": {
     "id": "0aeb88f3-b889-4ede-9d53-611b6c08d3b6",
     "prev": "d5db2f79-e076-452f-b23f-65f7d08d230f",
     "regions": {
      "40c1ef34-ae40-4e3c-8332-1a4449d1936d": {
       "attrs": {
        "height": 0.8,
        "width": 0.8,
        "x": 0.1,
        "y": 0.1
       },
       "content": {
        "cell": "b80b06e0-edfc-4630-842f-f68db385fb40",
        "part": "whole"
       },
       "id": "40c1ef34-ae40-4e3c-8332-1a4449d1936d"
      }
     }
    },
    "0e989127-9a4d-4381-917c-95de01994cc5": {
     "id": "0e989127-9a4d-4381-917c-95de01994cc5",
     "prev": "c08c0233-a57f-4a8c-83e6-e48704b54b50",
     "regions": {
      "92e31d89-00bb-4534-9a15-eb0e4feb117a": {
       "attrs": {
        "height": 0.8,
        "width": 0.8,
        "x": 0.1,
        "y": 0.1
       },
       "content": {
        "cell": "f1730b74-c9be-4844-9bb9-22b719ae71dd",
        "part": "whole"
       },
       "id": "92e31d89-00bb-4534-9a15-eb0e4feb117a"
      }
     }
    },
    "0ea466b6-03c3-47e9-94b1-9faad8e25b5e": {
     "id": "0ea466b6-03c3-47e9-94b1-9faad8e25b5e",
     "prev": "f39127c6-18fb-4ccf-9077-5592d0110740",
     "regions": {
      "53fd6b28-e00c-480a-b764-9ced1912bcdc": {
       "attrs": {
        "height": 0.8,
        "width": 0.8,
        "x": 0.1,
        "y": 0.1
       },
       "content": {
        "cell": "f4a7ea90-4e98-4c6d-ae3d-9ce55ec2ffa5",
        "part": "whole"
       },
       "id": "53fd6b28-e00c-480a-b764-9ced1912bcdc"
      }
     }
    },
    "0eed3e14-ef1e-48aa-96b9-ecd60432d72c": {
     "id": "0eed3e14-ef1e-48aa-96b9-ecd60432d72c",
     "prev": "aa72305e-038a-41bc-b8c2-f884c416d3c4",
     "regions": {
      "d4b7cb04-c759-4db4-858b-c09b9012bdaf": {
       "attrs": {
        "height": 0.8,
        "width": 0.8,
        "x": 0.1,
        "y": 0.1
       },
       "content": {
        "cell": "9d9826f6-9f97-4d68-85ab-262bc749f2df",
        "part": "whole"
       },
       "id": "d4b7cb04-c759-4db4-858b-c09b9012bdaf"
      }
     }
    },
    "1120fae7-a27d-4e7a-84da-a4108e60d12d": {
     "id": "1120fae7-a27d-4e7a-84da-a4108e60d12d",
     "prev": "5a3e03dc-d7bd-43db-b3ae-7dbfbf0d0f91",
     "regions": {
      "5488fd3f-40b6-4ddf-bca0-5970ae6cb220": {
       "attrs": {
        "height": 0.8,
        "width": 0.8,
        "x": 0.1,
        "y": 0.1
       },
       "content": {
        "cell": "d8b3881a-a586-4474-9907-4b57ee186de3",
        "part": "whole"
       },
       "id": "5488fd3f-40b6-4ddf-bca0-5970ae6cb220"
      }
     }
    },
    "130c2728-c731-42fd-b140-3f6c185a5fb0": {
     "id": "130c2728-c731-42fd-b140-3f6c185a5fb0",
     "prev": "aa3a74bd-ae93-4540-b5ac-acbdd9a39aed",
     "regions": {
      "f133e3d7-95cc-4b65-9144-8f18f64d7d9e": {
       "attrs": {
        "height": 0.8,
        "width": 0.8,
        "x": 0.1,
        "y": 0.1
       },
       "content": {
        "cell": "b7978f3c-8522-499b-ac1d-ce4702573866",
        "part": "whole"
       },
       "id": "f133e3d7-95cc-4b65-9144-8f18f64d7d9e"
      }
     }
    },
    "1543efbb-1289-45ea-8980-b566ce1d3aa0": {
     "id": "1543efbb-1289-45ea-8980-b566ce1d3aa0",
     "prev": "0e989127-9a4d-4381-917c-95de01994cc5",
     "regions": {
      "81a40ffb-6100-4dc9-a372-e57069a37de2": {
       "attrs": {
        "height": 0.8,
        "width": 0.8,
        "x": 0.1,
        "y": 0.1
       },
       "content": {
        "cell": "d0ec5b2b-6bc0-4fa9-84a5-c4fd5127a8bb",
        "part": "whole"
       },
       "id": "81a40ffb-6100-4dc9-a372-e57069a37de2"
      }
     }
    },
    "176a4116-cac1-4674-8376-d79547481993": {
     "id": "176a4116-cac1-4674-8376-d79547481993",
     "prev": "2450826a-c2de-460e-8168-02a49657dbdc",
     "regions": {
      "27a46838-71ff-4e91-aaa4-6530371a489c": {
       "attrs": {
        "height": 0.8,
        "width": 0.8,
        "x": 0.1,
        "y": 0.1
       },
       "content": {
        "cell": "c835d0fc-ae3c-40a1-b88e-7727f6efc894",
        "part": "whole"
       },
       "id": "27a46838-71ff-4e91-aaa4-6530371a489c"
      }
     }
    },
    "1b69564b-5450-4f99-8b8c-56b19e2d07f0": {
     "id": "1b69564b-5450-4f99-8b8c-56b19e2d07f0",
     "prev": "bc690670-e952-4af3-84b5-3c854ed2419d",
     "regions": {
      "4936e757-5ca2-494d-b838-8e326824d871": {
       "attrs": {
        "height": 0.8,
        "width": 0.8,
        "x": 0.1,
        "y": 0.1
       },
       "content": {
        "cell": "f9f92419-2f51-41ee-b442-89bacfeadf52",
        "part": "whole"
       },
       "id": "4936e757-5ca2-494d-b838-8e326824d871"
      }
     }
    },
    "1f7c9edb-c5b2-46a7-adac-126f764566e2": {
     "id": "1f7c9edb-c5b2-46a7-adac-126f764566e2",
     "prev": "71dfbe01-4a54-4b4a-ac6f-6eca79c7b773",
     "regions": {
      "cc243427-ceba-4ba5-baef-33bd00ec845a": {
       "attrs": {
        "height": 0.8,
        "width": 0.8,
        "x": 0.1,
        "y": 0.1
       },
       "content": {
        "cell": "e4b5b896-acba-4bd3-9e33-b70cb2da7437",
        "part": "whole"
       },
       "id": "cc243427-ceba-4ba5-baef-33bd00ec845a"
      }
     }
    },
    "209be671-9692-4e75-94e6-a7ce3a240fe2": {
     "id": "209be671-9692-4e75-94e6-a7ce3a240fe2",
     "prev": "93381b65-d6ac-4b3a-9fdd-e819d6b9b3d0",
     "regions": {
      "e6ba8691-7d3a-4caa-ad70-28c82f98fbaf": {
       "attrs": {
        "height": 0.8,
        "width": 0.8,
        "x": 0.1,
        "y": 0.1
       },
       "content": {
        "cell": "c8f5a895-eaf5-4136-ad7e-951930e4e6a2",
        "part": "whole"
       },
       "id": "e6ba8691-7d3a-4caa-ad70-28c82f98fbaf"
      }
     }
    },
    "2450826a-c2de-460e-8168-02a49657dbdc": {
     "id": "2450826a-c2de-460e-8168-02a49657dbdc",
     "prev": "c92cd52d-cb96-42fc-8da6-c8a7afd09c48",
     "regions": {
      "5a4bb0c4-6ca5-4741-a9fe-f3636c129b89": {
       "attrs": {
        "height": 0.8,
        "width": 0.8,
        "x": 0.1,
        "y": 0.1
       },
       "content": {
        "cell": "7b579b3e-57ae-42dc-b0a4-73b55b82049b",
        "part": "whole"
       },
       "id": "5a4bb0c4-6ca5-4741-a9fe-f3636c129b89"
      }
     }
    },
    "29716357-351c-40c0-8999-9fae2b945c41": {
     "id": "29716357-351c-40c0-8999-9fae2b945c41",
     "prev": "5a94419a-f7cc-4567-9780-047b09575613",
     "regions": {
      "221b7b00-fba8-4550-ad21-35a71eb8e5f2": {
       "attrs": {
        "height": 0.8,
        "width": 0.8,
        "x": 0.1,
        "y": 0.1
       },
       "content": {
        "cell": "336960f6-ac4c-43f5-a252-1ed06bde58be",
        "part": "whole"
       },
       "id": "221b7b00-fba8-4550-ad21-35a71eb8e5f2"
      }
     }
    },
    "2e94edb1-d970-4fab-9186-dade61b59143": {
     "id": "2e94edb1-d970-4fab-9186-dade61b59143",
     "prev": "0eed3e14-ef1e-48aa-96b9-ecd60432d72c",
     "regions": {
      "f2bb29ec-7e17-4791-8976-c2d9d0937935": {
       "attrs": {
        "height": 0.8,
        "width": 0.8,
        "x": 0.1,
        "y": 0.1
       },
       "content": {
        "cell": "532723ee-ebef-434e-a1ab-ee938bb7b536",
        "part": "whole"
       },
       "id": "f2bb29ec-7e17-4791-8976-c2d9d0937935"
      }
     }
    },
    "350cd244-6310-4dd0-a3ad-e91fe37c4a42": {
     "id": "350cd244-6310-4dd0-a3ad-e91fe37c4a42",
     "prev": "cad49943-c514-46b0-8d1c-7529768d7d95",
     "regions": {
      "84da8875-7d88-43eb-a4b2-fa96a32a39f0": {
       "attrs": {
        "height": 0.8,
        "width": 0.8,
        "x": 0.1,
        "y": 0.1
       },
       "content": {
        "cell": "495734c2-61e1-4354-bd77-4772d62ca029",
        "part": "whole"
       },
       "id": "84da8875-7d88-43eb-a4b2-fa96a32a39f0"
      }
     }
    },
    "3a9bd22e-2064-45ea-af0d-b79013610afa": {
     "id": "3a9bd22e-2064-45ea-af0d-b79013610afa",
     "prev": "59e40b2e-4902-49e0-97ce-720da0ed5d3a",
     "regions": {
      "dad36937-3f7f-4767-abb6-ff7c45eb42e4": {
       "attrs": {
        "height": 0.8,
        "width": 0.8,
        "x": 0.1,
        "y": 0.1
       },
       "content": {
        "cell": "5c7bf763-5350-4012-9e9c-05f63a758f9e",
        "part": "whole"
       },
       "id": "dad36937-3f7f-4767-abb6-ff7c45eb42e4"
      }
     }
    },
    "3f412d0d-6c28-47be-a589-d75bc9ae5884": {
     "id": "3f412d0d-6c28-47be-a589-d75bc9ae5884",
     "prev": "29716357-351c-40c0-8999-9fae2b945c41",
     "regions": {
      "c924326a-d25d-46bb-bfa7-64b5ec1a7b4a": {
       "attrs": {
        "height": 0.8,
        "width": 0.8,
        "x": 0.1,
        "y": 0.1
       },
       "content": {
        "cell": "a8e2c37c-9895-42ae-88ee-aa510f594cd6",
        "part": "whole"
       },
       "id": "c924326a-d25d-46bb-bfa7-64b5ec1a7b4a"
      }
     }
    },
    "4216d526-91aa-4693-89e6-d39053a5b967": {
     "id": "4216d526-91aa-4693-89e6-d39053a5b967",
     "prev": "8496866e-9610-4f37-a7a5-b46d1f772b83",
     "regions": {
      "3d071816-dc17-47ff-93ca-526b26f2b4ce": {
       "attrs": {
        "height": 0.8,
        "width": 0.8,
        "x": 0.1,
        "y": 0.1
       },
       "content": {
        "cell": "452d3b1c-d32e-4e9a-8e8f-bad1219d71a0",
        "part": "whole"
       },
       "id": "3d071816-dc17-47ff-93ca-526b26f2b4ce"
      }
     }
    },
    "43e6fa96-a860-46c3-a9d9-b251360ffa7a": {
     "id": "43e6fa96-a860-46c3-a9d9-b251360ffa7a",
     "prev": "eb4f1ee1-80af-4c83-b833-1a7062dc7fb5",
     "regions": {
      "cd6df1ad-c7ff-4e21-bf3a-f79148fe1fdb": {
       "attrs": {
        "height": 0.8,
        "width": 0.8,
        "x": 0.1,
        "y": 0.1
       },
       "content": {
        "cell": "d5cf5d30-317a-4227-a66b-621026117454",
        "part": "whole"
       },
       "id": "cd6df1ad-c7ff-4e21-bf3a-f79148fe1fdb"
      }
     }
    },
    "44125dd3-66db-41d3-8f7c-57d33ded2c48": {
     "id": "44125dd3-66db-41d3-8f7c-57d33ded2c48",
     "prev": "b95bdfc7-de0b-4a6e-a591-7c0658b7dd46",
     "regions": {
      "c3360060-1b22-4d6c-89ae-06ab3805142c": {
       "attrs": {
        "height": 0.8,
        "width": 0.8,
        "x": 0.1,
        "y": 0.1
       },
       "content": {
        "cell": "b7103454-073f-49ed-813c-4021e1582ec1",
        "part": "whole"
       },
       "id": "c3360060-1b22-4d6c-89ae-06ab3805142c"
      }
     }
    },
    "44c964b7-38e5-4a6a-9748-1cb8392ea553": {
     "id": "44c964b7-38e5-4a6a-9748-1cb8392ea553",
     "prev": "130c2728-c731-42fd-b140-3f6c185a5fb0",
     "regions": {
      "e5a24d47-8fd2-46b9-b6f8-15e86a26a078": {
       "attrs": {
        "height": 0.8,
        "width": 0.8,
        "x": 0.1,
        "y": 0.1
       },
       "content": {
        "cell": "9d56de1f-140d-40e0-b670-106b761b9049",
        "part": "whole"
       },
       "id": "e5a24d47-8fd2-46b9-b6f8-15e86a26a078"
      }
     }
    },
    "466e03c1-1f25-49e9-b04c-5e7ada55d8a1": {
     "id": "466e03c1-1f25-49e9-b04c-5e7ada55d8a1",
     "prev": "f4c17c08-8499-40ea-a139-15bf222bd99c",
     "regions": {
      "49eeab18-9f47-492d-a221-4d80d663ae3b": {
       "attrs": {
        "height": 0.8,
        "width": 0.8,
        "x": 0.1,
        "y": 0.1
       },
       "content": {
        "cell": "8dda5c3e-b367-489d-8601-b1d1db321e6d",
        "part": "whole"
       },
       "id": "49eeab18-9f47-492d-a221-4d80d663ae3b"
      }
     }
    },
    "480cd2d1-15b9-41ca-bcbd-d7c75786d793": {
     "id": "480cd2d1-15b9-41ca-bcbd-d7c75786d793",
     "prev": "5e9a95c8-b9c6-44f7-a07f-b6016c58d48a",
     "regions": {
      "267362c9-7ffb-4dd1-a9f5-a8fae2c28056": {
       "attrs": {
        "height": 0.8,
        "width": 0.8,
        "x": 0.1,
        "y": 0.1
       },
       "content": {
        "cell": "01dc63a1-198d-45ea-8d10-a0ae54bdc31e",
        "part": "whole"
       },
       "id": "267362c9-7ffb-4dd1-a9f5-a8fae2c28056"
      }
     }
    },
    "58be6a08-fa31-40cb-b345-a16464e5f87a": {
     "id": "58be6a08-fa31-40cb-b345-a16464e5f87a",
     "prev": null,
     "regions": {
      "e1e3e08f-61b9-43d9-be03-75183cc534d5": {
       "attrs": {
        "height": 0.8,
        "width": 0.8,
        "x": 0.1,
        "y": 0.1
       },
       "content": {
        "cell": "5f2d882f-a785-4ba7-a525-2d21d25560f7",
        "part": "whole"
       },
       "id": "e1e3e08f-61b9-43d9-be03-75183cc534d5"
      }
     }
    },
    "5996bd1f-3bf5-402a-a167-90dbca6607eb": {
     "id": "5996bd1f-3bf5-402a-a167-90dbca6607eb",
     "prev": "5b798305-b994-4783-946d-4fee59e957d0",
     "regions": {
      "b177e18c-e39f-4725-a87e-0ba4adf2bc55": {
       "attrs": {
        "height": 0.8,
        "width": 0.8,
        "x": 0.1,
        "y": 0.1
       },
       "content": {
        "cell": "84bb4593-95a7-407e-bb45-2ed56300225e",
        "part": "whole"
       },
       "id": "b177e18c-e39f-4725-a87e-0ba4adf2bc55"
      }
     }
    },
    "59e40b2e-4902-49e0-97ce-720da0ed5d3a": {
     "id": "59e40b2e-4902-49e0-97ce-720da0ed5d3a",
     "prev": "209be671-9692-4e75-94e6-a7ce3a240fe2",
     "regions": {
      "98552142-20d7-467d-83c3-26f8951917b4": {
       "attrs": {
        "height": 0.8,
        "width": 0.8,
        "x": 0.1,
        "y": 0.1
       },
       "content": {
        "cell": "fac8415b-f17f-4dfd-b822-2d0e8f6458be",
        "part": "whole"
       },
       "id": "98552142-20d7-467d-83c3-26f8951917b4"
      }
     }
    },
    "5a3e03dc-d7bd-43db-b3ae-7dbfbf0d0f91": {
     "id": "5a3e03dc-d7bd-43db-b3ae-7dbfbf0d0f91",
     "prev": "09ac4541-333c-4584-b458-46636484c9b5",
     "regions": {
      "530e1da1-bf80-4ffd-b685-0b59d49d5a32": {
       "attrs": {
        "height": 0.8,
        "width": 0.8,
        "x": 0.1,
        "y": 0.1
       },
       "content": {
        "cell": "97339f81-ab4e-47d5-a316-e43c4a8a3fd3",
        "part": "whole"
       },
       "id": "530e1da1-bf80-4ffd-b685-0b59d49d5a32"
      }
     }
    },
    "5a94419a-f7cc-4567-9780-047b09575613": {
     "id": "5a94419a-f7cc-4567-9780-047b09575613",
     "prev": "65430ac3-0b84-4375-aeb2-f24c091f8d23",
     "regions": {
      "3e8d6606-79c7-44eb-9652-09a4c7d8dcac": {
       "attrs": {
        "height": 0.8,
        "width": 0.8,
        "x": 0.1,
        "y": 0.1
       },
       "content": {
        "cell": "5bf4f186-e9d5-46c7-9358-4a724b72e172",
        "part": "whole"
       },
       "id": "3e8d6606-79c7-44eb-9652-09a4c7d8dcac"
      }
     }
    },
    "5b798305-b994-4783-946d-4fee59e957d0": {
     "id": "5b798305-b994-4783-946d-4fee59e957d0",
     "prev": "2e94edb1-d970-4fab-9186-dade61b59143",
     "regions": {
      "e8228b7a-7f93-4531-bc42-7d6f67b1e4db": {
       "attrs": {
        "height": 0.8,
        "width": 0.8,
        "x": 0.1,
        "y": 0.1
       },
       "content": {
        "cell": "d2440bf2-9406-4d34-8d45-65f12cbe98a3",
        "part": "whole"
       },
       "id": "e8228b7a-7f93-4531-bc42-7d6f67b1e4db"
      }
     }
    },
    "5e9a95c8-b9c6-44f7-a07f-b6016c58d48a": {
     "id": "5e9a95c8-b9c6-44f7-a07f-b6016c58d48a",
     "prev": "e2d42e29-790a-4f0b-963d-5f550a923725",
     "regions": {
      "cd8e7cc9-8fbf-4ca8-9899-2f6a22b2d8ae": {
       "attrs": {
        "height": 0.8,
        "width": 0.8,
        "x": 0.1,
        "y": 0.1
       },
       "content": {
        "cell": "608677ad-54db-4b75-8280-665921c4280d",
        "part": "whole"
       },
       "id": "cd8e7cc9-8fbf-4ca8-9899-2f6a22b2d8ae"
      }
     }
    },
    "61d469ad-ec71-41fb-b83d-7aa10167ec08": {
     "id": "61d469ad-ec71-41fb-b83d-7aa10167ec08",
     "prev": "dd5027d9-82a7-4a77-ba6b-fd8ec4379a9d",
     "regions": {
      "17e78a82-c00d-43f1-85cc-c030ffb9a7e7": {
       "attrs": {
        "height": 0.8,
        "width": 0.8,
        "x": 0.1,
        "y": 0.1
       },
       "content": {
        "cell": "56b6b35c-2a3b-42df-b6e7-3bf369748d7b",
        "part": "whole"
       },
       "id": "17e78a82-c00d-43f1-85cc-c030ffb9a7e7"
      }
     }
    },
    "62d51e49-1c8d-4c43-a642-0b332dc7efc3": {
     "id": "62d51e49-1c8d-4c43-a642-0b332dc7efc3",
     "prev": "7faf6de9-12fb-481f-a061-109958694ec9",
     "regions": {
      "529bd3f8-b310-44dd-8d83-03ad8be6d82a": {
       "attrs": {
        "height": 0.8,
        "width": 0.8,
        "x": 0.1,
        "y": 0.1
       },
       "content": {
        "cell": "124a42e5-5f7c-460c-9a5b-1c654b54d532",
        "part": "whole"
       },
       "id": "529bd3f8-b310-44dd-8d83-03ad8be6d82a"
      }
     }
    },
    "652fee78-dd49-48fc-adce-a6745db46b6a": {
     "id": "652fee78-dd49-48fc-adce-a6745db46b6a",
     "prev": "1f7c9edb-c5b2-46a7-adac-126f764566e2",
     "regions": {
      "ca7235bb-0810-4d03-8271-acd9b1239d3c": {
       "attrs": {
        "height": 0.8,
        "width": 0.8,
        "x": 0.1,
        "y": 0.1
       },
       "content": {
        "cell": "7a857f02-f708-4ff9-81a4-4947cad7d9a0",
        "part": "whole"
       },
       "id": "ca7235bb-0810-4d03-8271-acd9b1239d3c"
      }
     }
    },
    "65430ac3-0b84-4375-aeb2-f24c091f8d23": {
     "id": "65430ac3-0b84-4375-aeb2-f24c091f8d23",
     "prev": "87ca8134-6ec8-4198-a275-f01bdfd19794",
     "regions": {
      "b7a6854b-20f2-4961-aea5-21a75c4aa5f0": {
       "attrs": {
        "height": 0.8,
        "width": 0.8,
        "x": 0.1,
        "y": 0.1
       },
       "content": {
        "cell": "076a9d0a-ec23-44ea-8c3a-b05cbcb22254",
        "part": "whole"
       },
       "id": "b7a6854b-20f2-4961-aea5-21a75c4aa5f0"
      }
     }
    },
    "6b5b1e48-d421-4cf7-b3b7-3bb16ff7cd0e": {
     "id": "6b5b1e48-d421-4cf7-b3b7-3bb16ff7cd0e",
     "prev": "480cd2d1-15b9-41ca-bcbd-d7c75786d793",
     "regions": {
      "ac984dbe-beb1-4329-bbc7-a3530733e717": {
       "attrs": {
        "height": 0.8,
        "width": 0.8,
        "x": 0.1,
        "y": 0.1
       },
       "content": {
        "cell": "3deaf6b2-759a-4a2f-beb0-b562efc3706d",
        "part": "whole"
       },
       "id": "ac984dbe-beb1-4329-bbc7-a3530733e717"
      }
     }
    },
    "6d3b3126-cf0d-4e6e-98a0-5c3f6a737937": {
     "id": "6d3b3126-cf0d-4e6e-98a0-5c3f6a737937",
     "prev": "652fee78-dd49-48fc-adce-a6745db46b6a",
     "regions": {
      "13a4843c-79fa-4818-aa7d-b288c8600c6a": {
       "attrs": {
        "height": 0.8,
        "width": 0.8,
        "x": 0.1,
        "y": 0.1
       },
       "content": {
        "cell": "2b27a0b8-82e2-400f-987e-b155806646d2",
        "part": "whole"
       },
       "id": "13a4843c-79fa-4818-aa7d-b288c8600c6a"
      }
     }
    },
    "6db88bc4-a2f9-47ae-9139-22fbf37ded1f": {
     "id": "6db88bc4-a2f9-47ae-9139-22fbf37ded1f",
     "prev": "176a4116-cac1-4674-8376-d79547481993",
     "regions": {
      "eaf35368-143d-4da3-89db-e32225ae7f00": {
       "attrs": {
        "height": 0.8,
        "width": 0.8,
        "x": 0.1,
        "y": 0.1
       },
       "content": {
        "cell": "b2f39d2e-3e1d-4156-9119-e52fe9391c04",
        "part": "whole"
       },
       "id": "eaf35368-143d-4da3-89db-e32225ae7f00"
      }
     }
    },
    "6fb2ace7-b347-4da8-abd7-401431fefda5": {
     "id": "6fb2ace7-b347-4da8-abd7-401431fefda5",
     "prev": "c09b6732-f982-4530-88cb-2285f9e0b8da",
     "regions": {
      "9a6188f4-fa1c-4c9c-a8ae-fd26bfac7fbf": {
       "attrs": {
        "height": 0.8,
        "width": 0.8,
        "x": 0.1,
        "y": 0.1
       },
       "content": {
        "cell": "8e8ffd6a-4cd5-44c0-b0ef-5b9733d3232c",
        "part": "whole"
       },
       "id": "9a6188f4-fa1c-4c9c-a8ae-fd26bfac7fbf"
      }
     }
    },
    "70762ebf-d669-4c96-9429-2ac840fc9aef": {
     "id": "70762ebf-d669-4c96-9429-2ac840fc9aef",
     "prev": "1b69564b-5450-4f99-8b8c-56b19e2d07f0",
     "regions": {
      "9613210f-b56e-4287-a90b-4e2705f01886": {
       "attrs": {
        "height": 0.8,
        "width": 0.8,
        "x": 0.1,
        "y": 0.1
       },
       "content": {
        "cell": "e3bcb034-e386-4918-9f5b-ae9078940862",
        "part": "whole"
       },
       "id": "9613210f-b56e-4287-a90b-4e2705f01886"
      }
     }
    },
    "71dfbe01-4a54-4b4a-ac6f-6eca79c7b773": {
     "id": "71dfbe01-4a54-4b4a-ac6f-6eca79c7b773",
     "prev": "466e03c1-1f25-49e9-b04c-5e7ada55d8a1",
     "regions": {
      "56e644d4-253d-462b-b215-1cd01b8c598d": {
       "attrs": {
        "height": 0.8,
        "width": 0.8,
        "x": 0.1,
        "y": 0.1
       },
       "content": {
        "cell": "f066e1dd-ffaf-4c4f-9598-18715d15ab53",
        "part": "whole"
       },
       "id": "56e644d4-253d-462b-b215-1cd01b8c598d"
      }
     }
    },
    "7392a7b3-cbdc-4ee3-a22c-1ad356fc6ea0": {
     "id": "7392a7b3-cbdc-4ee3-a22c-1ad356fc6ea0",
     "prev": "d0c718fc-2b97-41a2-8313-d805d58e9c19",
     "regions": {
      "99984b28-f2b4-4feb-b701-c49c23f6c439": {
       "attrs": {
        "height": 0.8,
        "width": 0.8,
        "x": 0.1,
        "y": 0.1
       },
       "content": {
        "cell": "95cc5981-bcf1-432f-ac94-23de97199254",
        "part": "whole"
       },
       "id": "99984b28-f2b4-4feb-b701-c49c23f6c439"
      }
     }
    },
    "74b90cb0-c004-44fc-8fc6-8ef66c93c52b": {
     "id": "74b90cb0-c004-44fc-8fc6-8ef66c93c52b",
     "prev": "6fb2ace7-b347-4da8-abd7-401431fefda5",
     "regions": {
      "d7d40c5c-9455-4036-9c5f-0dd8a0a456b3": {
       "attrs": {
        "height": 0.8,
        "width": 0.8,
        "x": 0.1,
        "y": 0.1
       },
       "content": {
        "cell": "2015c19f-0695-4bb1-be6c-6fea57c9ff90",
        "part": "whole"
       },
       "id": "d7d40c5c-9455-4036-9c5f-0dd8a0a456b3"
      }
     }
    },
    "755b75d1-f85b-45db-96d6-ddedd303840f": {
     "id": "755b75d1-f85b-45db-96d6-ddedd303840f",
     "prev": "842c3626-0e91-422b-a52c-a1b221ac4ca2",
     "regions": {
      "cdecdd94-2c2b-405b-87ac-b08190597e70": {
       "attrs": {
        "height": 0.8,
        "width": 0.8,
        "x": 0.1,
        "y": 0.1
       },
       "content": {
        "cell": "d9aa6ca6-abd8-4b12-81d4-165ab8e72928",
        "part": "whole"
       },
       "id": "cdecdd94-2c2b-405b-87ac-b08190597e70"
      }
     }
    },
    "7faf6de9-12fb-481f-a061-109958694ec9": {
     "id": "7faf6de9-12fb-481f-a061-109958694ec9",
     "prev": "899ddd01-d30c-4135-8b4f-28ef6339c2d3",
     "regions": {
      "2e683e32-64b3-4d0b-b943-d2b33a3a3bdd": {
       "attrs": {
        "height": 0.8,
        "width": 0.8,
        "x": 0.1,
        "y": 0.1
       },
       "content": {
        "cell": "d0e2216b-f53c-4981-ac4a-dae317de5a0b",
        "part": "whole"
       },
       "id": "2e683e32-64b3-4d0b-b943-d2b33a3a3bdd"
      }
     }
    },
    "842c3626-0e91-422b-a52c-a1b221ac4ca2": {
     "id": "842c3626-0e91-422b-a52c-a1b221ac4ca2",
     "prev": "74b90cb0-c004-44fc-8fc6-8ef66c93c52b",
     "regions": {
      "b8b4efda-480d-436e-b60c-818dbb01e035": {
       "attrs": {
        "height": 0.8,
        "width": 0.8,
        "x": 0.1,
        "y": 0.1
       },
       "content": {
        "cell": "7e9a0777-501a-4f6e-b28a-fd02f15b9375",
        "part": "whole"
       },
       "id": "b8b4efda-480d-436e-b60c-818dbb01e035"
      }
     }
    },
    "8496866e-9610-4f37-a7a5-b46d1f772b83": {
     "id": "8496866e-9610-4f37-a7a5-b46d1f772b83",
     "prev": "8908d188-e09c-4c12-8b65-dfc87b5fd49a",
     "regions": {
      "873f2f18-5d20-4142-b162-b0bc12350d8c": {
       "attrs": {
        "height": 0.8,
        "width": 0.8,
        "x": 0.1,
        "y": 0.1
       },
       "content": {
        "cell": "8db3c3d8-343a-4f7b-8407-f9af836da7ec",
        "part": "whole"
       },
       "id": "873f2f18-5d20-4142-b162-b0bc12350d8c"
      }
     }
    },
    "8694d602-e2dd-4e8a-985e-d8ef7e5d620a": {
     "id": "8694d602-e2dd-4e8a-985e-d8ef7e5d620a",
     "prev": "9c136c72-2845-4c57-bec4-9b1ee0709bfb",
     "regions": {
      "2b1593fe-1b58-4122-bd50-f2abb650b7a7": {
       "attrs": {
        "height": 0.8,
        "width": 0.8,
        "x": 0.1,
        "y": 0.1
       },
       "content": {
        "cell": "1aadf387-265c-496e-85f6-0206dcd304b8",
        "part": "whole"
       },
       "id": "2b1593fe-1b58-4122-bd50-f2abb650b7a7"
      }
     }
    },
    "87ca8134-6ec8-4198-a275-f01bdfd19794": {
     "id": "87ca8134-6ec8-4198-a275-f01bdfd19794",
     "prev": "fb5c38b8-2f60-4351-9500-81ba878f5aad",
     "regions": {
      "da7560c7-6ffc-4ad1-ab80-aef9843ff3b0": {
       "attrs": {
        "height": 0.8,
        "width": 0.8,
        "x": 0.1,
        "y": 0.1
       },
       "content": {
        "cell": "53bd80d8-c2d6-427e-be5f-6e6c89c2dd12",
        "part": "whole"
       },
       "id": "da7560c7-6ffc-4ad1-ab80-aef9843ff3b0"
      }
     }
    },
    "8908d188-e09c-4c12-8b65-dfc87b5fd49a": {
     "id": "8908d188-e09c-4c12-8b65-dfc87b5fd49a",
     "prev": "6d3b3126-cf0d-4e6e-98a0-5c3f6a737937",
     "regions": {
      "158808f5-5c97-4509-b8fa-76de28401622": {
       "attrs": {
        "height": 0.8,
        "width": 0.8,
        "x": 0.1,
        "y": 0.1
       },
       "content": {
        "cell": "e72c5cbb-e7d9-484b-9498-3dc3ec399bba",
        "part": "whole"
       },
       "id": "158808f5-5c97-4509-b8fa-76de28401622"
      }
     }
    },
    "899ddd01-d30c-4135-8b4f-28ef6339c2d3": {
     "id": "899ddd01-d30c-4135-8b4f-28ef6339c2d3",
     "prev": "3a9bd22e-2064-45ea-af0d-b79013610afa",
     "regions": {
      "fe0c1fa7-e953-490d-8962-a422b7abf362": {
       "attrs": {
        "height": 0.8,
        "width": 0.8,
        "x": 0.1,
        "y": 0.1
       },
       "content": {
        "cell": "5eb55f94-bc78-48a5-bc70-b48bd7e69e8b",
        "part": "whole"
       },
       "id": "fe0c1fa7-e953-490d-8962-a422b7abf362"
      }
     }
    },
    "93381b65-d6ac-4b3a-9fdd-e819d6b9b3d0": {
     "id": "93381b65-d6ac-4b3a-9fdd-e819d6b9b3d0",
     "prev": "ee218331-ee13-4113-abdc-e009c91bdf04",
     "regions": {
      "80c32e3b-ba84-4e07-8a43-72c7236a56d4": {
       "attrs": {
        "height": 0.8,
        "width": 0.8,
        "x": 0.1,
        "y": 0.1
       },
       "content": {
        "cell": "4ef11be2-9797-4174-ac69-a2d780080fe6",
        "part": "whole"
       },
       "id": "80c32e3b-ba84-4e07-8a43-72c7236a56d4"
      }
     }
    },
    "94300207-06ae-47af-bb52-8c3354369c35": {
     "id": "94300207-06ae-47af-bb52-8c3354369c35",
     "prev": "fb8c708c-ed66-4951-a81e-7e2226547894",
     "regions": {
      "7bfeb86a-8240-4f13-bd4e-95b338a88cc4": {
       "attrs": {
        "height": 0.8,
        "width": 0.8,
        "x": 0.1,
        "y": 0.1
       },
       "content": {
        "cell": "889571a6-32f3-487a-a80a-27d38f4f435e",
        "part": "whole"
       },
       "id": "7bfeb86a-8240-4f13-bd4e-95b338a88cc4"
      }
     }
    },
    "98ff7303-a855-476b-9a96-7f5446121912": {
     "id": "98ff7303-a855-476b-9a96-7f5446121912",
     "prev": "1543efbb-1289-45ea-8980-b566ce1d3aa0",
     "regions": {
      "b0d67e5b-e135-4d67-84d4-ac878488fab9": {
       "attrs": {
        "height": 0.8,
        "width": 0.8,
        "x": 0.1,
        "y": 0.1
       },
       "content": {
        "cell": "6d2b40c2-fa06-4d42-a384-66106a820fa0",
        "part": "whole"
       },
       "id": "b0d67e5b-e135-4d67-84d4-ac878488fab9"
      }
     }
    },
    "9c136c72-2845-4c57-bec4-9b1ee0709bfb": {
     "id": "9c136c72-2845-4c57-bec4-9b1ee0709bfb",
     "prev": "0aeb88f3-b889-4ede-9d53-611b6c08d3b6",
     "regions": {
      "0dee51fa-d591-4182-9df5-bd1e07cdb52b": {
       "attrs": {
        "height": 0.8,
        "width": 0.8,
        "x": 0.1,
        "y": 0.1
       },
       "content": {
        "cell": "46fa8c0c-cace-47a8-b6aa-c574c2e6716c",
        "part": "whole"
       },
       "id": "0dee51fa-d591-4182-9df5-bd1e07cdb52b"
      }
     }
    },
    "9ce9f5aa-ed05-483c-8eca-bf509aa77484": {
     "id": "9ce9f5aa-ed05-483c-8eca-bf509aa77484",
     "prev": "a353c0b2-3bea-4354-b4c4-1c5ba9f7af43",
     "regions": {
      "8d3272f9-964d-4dc5-8af4-eb1bae063ff6": {
       "attrs": {
        "height": 0.8,
        "width": 0.8,
        "x": 0.1,
        "y": 0.1
       },
       "content": {
        "cell": "4c175694-cb5f-4f42-8867-87f642aec20d",
        "part": "whole"
       },
       "id": "8d3272f9-964d-4dc5-8af4-eb1bae063ff6"
      }
     }
    },
    "9d0adc6d-6675-4ce9-bd04-20789da81f3c": {
     "id": "9d0adc6d-6675-4ce9-bd04-20789da81f3c",
     "prev": "9ce9f5aa-ed05-483c-8eca-bf509aa77484",
     "regions": {
      "e932b5df-f090-404c-9014-38e7f4f52d45": {
       "attrs": {
        "height": 0.8,
        "width": 0.8,
        "x": 0.1,
        "y": 0.1
       },
       "content": {
        "cell": "798fc2c3-6c34-49df-bdb0-3d8be90acb27",
        "part": "whole"
       },
       "id": "e932b5df-f090-404c-9014-38e7f4f52d45"
      }
     }
    },
    "a353c0b2-3bea-4354-b4c4-1c5ba9f7af43": {
     "id": "a353c0b2-3bea-4354-b4c4-1c5ba9f7af43",
     "prev": "068e91e5-c84a-4851-bdd3-e7cf5261bb75",
     "regions": {
      "227bc9c4-d58e-4dcc-9862-36b42546cbf3": {
       "attrs": {
        "height": 0.8,
        "width": 0.8,
        "x": 0.1,
        "y": 0.1
       },
       "content": {
        "cell": "7b4c3512-8106-4929-bef3-6680adbce0e0",
        "part": "whole"
       },
       "id": "227bc9c4-d58e-4dcc-9862-36b42546cbf3"
      }
     }
    },
    "aa3a74bd-ae93-4540-b5ac-acbdd9a39aed": {
     "id": "aa3a74bd-ae93-4540-b5ac-acbdd9a39aed",
     "prev": "9d0adc6d-6675-4ce9-bd04-20789da81f3c",
     "regions": {
      "ea507a7d-2b32-4979-9be9-d86987d7fa66": {
       "attrs": {
        "height": 0.8,
        "width": 0.8,
        "x": 0.1,
        "y": 0.1
       },
       "content": {
        "cell": "7cbac02f-e991-4d89-86be-eb77b5a0ca6f",
        "part": "whole"
       },
       "id": "ea507a7d-2b32-4979-9be9-d86987d7fa66"
      }
     }
    },
    "aa72305e-038a-41bc-b8c2-f884c416d3c4": {
     "id": "aa72305e-038a-41bc-b8c2-f884c416d3c4",
     "prev": "ee8d8a60-33c0-4a1a-aaee-44910ec39da6",
     "regions": {
      "9710fe76-589c-4977-aa09-e652aaa8819d": {
       "attrs": {
        "height": 0.8,
        "width": 0.8,
        "x": 0.1,
        "y": 0.1
       },
       "content": {
        "cell": "613e2800-ee9f-4f1a-9bb3-e28e7e7459fd",
        "part": "whole"
       },
       "id": "9710fe76-589c-4977-aa09-e652aaa8819d"
      }
     }
    },
    "aab2e4bd-ba8a-4cbb-a11d-45ac88281f67": {
     "id": "aab2e4bd-ba8a-4cbb-a11d-45ac88281f67",
     "prev": "0ea466b6-03c3-47e9-94b1-9faad8e25b5e",
     "regions": {
      "08c906f1-3757-4707-8f2c-b650c9907cba": {
       "attrs": {
        "height": 0.8,
        "width": 0.8,
        "x": 0.1,
        "y": 0.1
       },
       "content": {
        "cell": "3f79f2df-ad81-4952-ae68-91e0641e149c",
        "part": "whole"
       },
       "id": "08c906f1-3757-4707-8f2c-b650c9907cba"
      }
     }
    },
    "ab466b29-244d-4291-9f57-5abdeb24af92": {
     "id": "ab466b29-244d-4291-9f57-5abdeb24af92",
     "prev": "44c964b7-38e5-4a6a-9748-1cb8392ea553",
     "regions": {
      "18021155-4f79-4018-8a7b-5f819b4a23d3": {
       "attrs": {
        "height": 0.8,
        "width": 0.8,
        "x": 0.1,
        "y": 0.1
       },
       "content": {
        "cell": "82fe3e69-4899-49dc-ac6c-6a738bac8bba",
        "part": "whole"
       },
       "id": "18021155-4f79-4018-8a7b-5f819b4a23d3"
      }
     }
    },
    "b95bdfc7-de0b-4a6e-a591-7c0658b7dd46": {
     "id": "b95bdfc7-de0b-4a6e-a591-7c0658b7dd46",
     "prev": "fc0d20ad-83ed-4b8d-b231-c08b2df4ef7a",
     "regions": {
      "49e35fd7-f2cd-4c43-b3a1-9309f1d9859d": {
       "attrs": {
        "height": 0.8,
        "width": 0.8,
        "x": 0.1,
        "y": 0.1
       },
       "content": {
        "cell": "76b71e72-4672-4550-aade-479c385c9e41",
        "part": "whole"
       },
       "id": "49e35fd7-f2cd-4c43-b3a1-9309f1d9859d"
      }
     }
    },
    "bc690670-e952-4af3-84b5-3c854ed2419d": {
     "id": "bc690670-e952-4af3-84b5-3c854ed2419d",
     "prev": "4216d526-91aa-4693-89e6-d39053a5b967",
     "regions": {
      "23177333-e3ef-4afa-93a2-939f510eab23": {
       "attrs": {
        "height": 0.8,
        "width": 0.8,
        "x": 0.1,
        "y": 0.1
       },
       "content": {
        "cell": "66efc5f3-2537-4f19-9705-e0edb0d6d36b",
        "part": "whole"
       },
       "id": "23177333-e3ef-4afa-93a2-939f510eab23"
      }
     }
    },
    "c08c0233-a57f-4a8c-83e6-e48704b54b50": {
     "id": "c08c0233-a57f-4a8c-83e6-e48704b54b50",
     "prev": "ab466b29-244d-4291-9f57-5abdeb24af92",
     "regions": {
      "aae61afd-cf35-433c-a591-100abbab81ef": {
       "attrs": {
        "height": 0.8,
        "width": 0.8,
        "x": 0.1,
        "y": 0.1
       },
       "content": {
        "cell": "572b88c2-72ea-469e-a202-593b0d5cbda9",
        "part": "whole"
       },
       "id": "aae61afd-cf35-433c-a591-100abbab81ef"
      }
     }
    },
    "c09b6732-f982-4530-88cb-2285f9e0b8da": {
     "id": "c09b6732-f982-4530-88cb-2285f9e0b8da",
     "prev": "1120fae7-a27d-4e7a-84da-a4108e60d12d",
     "regions": {
      "4ed8fe8a-34de-4ee3-bf44-cd8135ef626a": {
       "attrs": {
        "height": 0.8,
        "width": 0.8,
        "x": 0.1,
        "y": 0.1
       },
       "content": {
        "cell": "d5693832-e100-46fc-96af-31e2cce3ebd5",
        "part": "whole"
       },
       "id": "4ed8fe8a-34de-4ee3-bf44-cd8135ef626a"
      }
     }
    },
    "c92cd52d-cb96-42fc-8da6-c8a7afd09c48": {
     "id": "c92cd52d-cb96-42fc-8da6-c8a7afd09c48",
     "prev": "94300207-06ae-47af-bb52-8c3354369c35",
     "regions": {
      "b05b0946-70e0-4229-a590-93bfedfd5587": {
       "attrs": {
        "height": 0.8,
        "width": 0.8,
        "x": 0.1,
        "y": 0.1
       },
       "content": {
        "cell": "cf6a3c20-6125-4e54-a8a9-5d7f7c394481",
        "part": "whole"
       },
       "id": "b05b0946-70e0-4229-a590-93bfedfd5587"
      }
     }
    },
    "cad49943-c514-46b0-8d1c-7529768d7d95": {
     "id": "cad49943-c514-46b0-8d1c-7529768d7d95",
     "prev": "62d51e49-1c8d-4c43-a642-0b332dc7efc3",
     "regions": {
      "55bb730b-c6a9-44cb-b9c2-93258db0075d": {
       "attrs": {
        "height": 0.8,
        "width": 0.8,
        "x": 0.1,
        "y": 0.1
       },
       "content": {
        "cell": "88db4aac-989b-4304-8cd2-5a4d29714640",
        "part": "whole"
       },
       "id": "55bb730b-c6a9-44cb-b9c2-93258db0075d"
      }
     }
    },
    "cee7f708-b2a1-4662-af4a-7b2bc65ba74d": {
     "id": "cee7f708-b2a1-4662-af4a-7b2bc65ba74d",
     "prev": "8694d602-e2dd-4e8a-985e-d8ef7e5d620a",
     "regions": {
      "a4fadbcc-b38a-4a43-a392-c1ab6db3adc1": {
       "attrs": {
        "height": 0.8,
        "width": 0.8,
        "x": 0.1,
        "y": 0.1
       },
       "content": {
        "cell": "6b021f93-61d5-4536-bed4-a861b660288c",
        "part": "whole"
       },
       "id": "a4fadbcc-b38a-4a43-a392-c1ab6db3adc1"
      }
     }
    },
    "d0c718fc-2b97-41a2-8313-d805d58e9c19": {
     "id": "d0c718fc-2b97-41a2-8313-d805d58e9c19",
     "prev": "cee7f708-b2a1-4662-af4a-7b2bc65ba74d",
     "regions": {
      "54916b67-dba8-43ab-952f-7a1fd9693080": {
       "attrs": {
        "height": 0.8,
        "width": 0.8,
        "x": 0.1,
        "y": 0.1
       },
       "content": {
        "cell": "31a0a722-d1c1-405e-9f0d-c85379487ba6",
        "part": "whole"
       },
       "id": "54916b67-dba8-43ab-952f-7a1fd9693080"
      }
     }
    },
    "d5db2f79-e076-452f-b23f-65f7d08d230f": {
     "id": "d5db2f79-e076-452f-b23f-65f7d08d230f",
     "prev": "aab2e4bd-ba8a-4cbb-a11d-45ac88281f67",
     "regions": {
      "b1f8966f-8f18-4caf-80e9-5faeec63dfeb": {
       "attrs": {
        "height": 0.8,
        "width": 0.8,
        "x": 0.1,
        "y": 0.1
       },
       "content": {
        "cell": "dd66b093-9ce8-4095-80bd-97822cdd875c",
        "part": "whole"
       },
       "id": "b1f8966f-8f18-4caf-80e9-5faeec63dfeb"
      }
     }
    },
    "dd5027d9-82a7-4a77-ba6b-fd8ec4379a9d": {
     "id": "dd5027d9-82a7-4a77-ba6b-fd8ec4379a9d",
     "prev": "6b5b1e48-d421-4cf7-b3b7-3bb16ff7cd0e",
     "regions": {
      "2073fdd2-f00b-43b1-bd1d-1c0733324775": {
       "attrs": {
        "height": 0.8,
        "width": 0.8,
        "x": 0.1,
        "y": 0.1
       },
       "content": {
        "cell": "c7841477-9c4e-40e9-bf5e-6f81d3c436d1",
        "part": "whole"
       },
       "id": "2073fdd2-f00b-43b1-bd1d-1c0733324775"
      }
     }
    },
    "e2d42e29-790a-4f0b-963d-5f550a923725": {
     "id": "e2d42e29-790a-4f0b-963d-5f550a923725",
     "prev": "755b75d1-f85b-45db-96d6-ddedd303840f",
     "regions": {
      "968d0438-69d4-487f-a17f-2cdfa8f550c8": {
       "attrs": {
        "height": 0.8,
        "width": 0.8,
        "x": 0.1,
        "y": 0.1
       },
       "content": {
        "cell": "e5fe6bdf-6572-443d-9959-4d7d26fab29c",
        "part": "whole"
       },
       "id": "968d0438-69d4-487f-a17f-2cdfa8f550c8"
      }
     }
    },
    "eb4f1ee1-80af-4c83-b833-1a7062dc7fb5": {
     "id": "eb4f1ee1-80af-4c83-b833-1a7062dc7fb5",
     "prev": "fb52e94e-d9a0-48ce-8aaa-86c4d887beee",
     "regions": {
      "757b4674-f1e0-475b-9099-7d7a3bea07e8": {
       "attrs": {
        "height": 0.8,
        "width": 0.8,
        "x": 0.1,
        "y": 0.1
       },
       "content": {
        "cell": "52b5dc19-7cb5-4946-bd5e-78919b482d46",
        "part": "whole"
       },
       "id": "757b4674-f1e0-475b-9099-7d7a3bea07e8"
      }
     }
    },
    "ee218331-ee13-4113-abdc-e009c91bdf04": {
     "id": "ee218331-ee13-4113-abdc-e009c91bdf04",
     "prev": "7392a7b3-cbdc-4ee3-a22c-1ad356fc6ea0",
     "regions": {
      "ac9048f8-5f5a-4730-aad4-035947b650f5": {
       "attrs": {
        "height": 0.8,
        "width": 0.8,
        "x": 0.1,
        "y": 0.1
       },
       "content": {
        "cell": "0ae8b4df-be7a-43b4-8ebe-a5b0534d46d2",
        "part": "whole"
       },
       "id": "ac9048f8-5f5a-4730-aad4-035947b650f5"
      }
     }
    },
    "ee8d8a60-33c0-4a1a-aaee-44910ec39da6": {
     "id": "ee8d8a60-33c0-4a1a-aaee-44910ec39da6",
     "prev": "70762ebf-d669-4c96-9429-2ac840fc9aef",
     "regions": {
      "8903d9a5-01b2-4220-ac41-90a4f85a040d": {
       "attrs": {
        "height": 0.8,
        "width": 0.8,
        "x": 0.1,
        "y": 0.1
       },
       "content": {
        "cell": "c991c332-6065-45c6-a143-aaad171fc323",
        "part": "whole"
       },
       "id": "8903d9a5-01b2-4220-ac41-90a4f85a040d"
      }
     }
    },
    "f39127c6-18fb-4ccf-9077-5592d0110740": {
     "id": "f39127c6-18fb-4ccf-9077-5592d0110740",
     "prev": "98ff7303-a855-476b-9a96-7f5446121912",
     "regions": {
      "e4488e7d-4137-4f52-904f-e4a331671b69": {
       "attrs": {
        "height": 0.8,
        "width": 0.8,
        "x": 0.1,
        "y": 0.1
       },
       "content": {
        "cell": "f03ac97d-9b4d-4995-b7f9-6ccc072e86ee",
        "part": "whole"
       },
       "id": "e4488e7d-4137-4f52-904f-e4a331671b69"
      }
     }
    },
    "f4c17c08-8499-40ea-a139-15bf222bd99c": {
     "id": "f4c17c08-8499-40ea-a139-15bf222bd99c",
     "prev": "350cd244-6310-4dd0-a3ad-e91fe37c4a42",
     "regions": {
      "077f3086-e5ac-48db-bdbf-f27dfd885eb0": {
       "attrs": {
        "height": 0.8,
        "width": 0.8,
        "x": 0.1,
        "y": 0.1
       },
       "content": {
        "cell": "2d3faeca-bb1e-45bd-bed0-6b16a50a961c",
        "part": "whole"
       },
       "id": "077f3086-e5ac-48db-bdbf-f27dfd885eb0"
      }
     }
    },
    "fb52e94e-d9a0-48ce-8aaa-86c4d887beee": {
     "id": "fb52e94e-d9a0-48ce-8aaa-86c4d887beee",
     "prev": "5996bd1f-3bf5-402a-a167-90dbca6607eb",
     "regions": {
      "da6fd3fe-ff6c-4c58-8ea5-a40f6e7752cb": {
       "attrs": {
        "height": 0.8,
        "width": 0.8,
        "x": 0.1,
        "y": 0.1
       },
       "content": {
        "cell": "8c345b4a-b8fc-4f8c-b3af-1a4380ce0da5",
        "part": "whole"
       },
       "id": "da6fd3fe-ff6c-4c58-8ea5-a40f6e7752cb"
      }
     }
    },
    "fb5c38b8-2f60-4351-9500-81ba878f5aad": {
     "id": "fb5c38b8-2f60-4351-9500-81ba878f5aad",
     "prev": "44125dd3-66db-41d3-8f7c-57d33ded2c48",
     "regions": {
      "8fcadb4c-bba9-4076-9632-d4733a6d1e42": {
       "attrs": {
        "height": 0.8,
        "width": 0.8,
        "x": 0.1,
        "y": 0.1
       },
       "content": {
        "cell": "e1e4aa48-030e-4344-a03b-136ed71b1d9b",
        "part": "whole"
       },
       "id": "8fcadb4c-bba9-4076-9632-d4733a6d1e42"
      }
     }
    },
    "fb8c708c-ed66-4951-a81e-7e2226547894": {
     "id": "fb8c708c-ed66-4951-a81e-7e2226547894",
     "prev": "0ab534b3-bee1-45f1-a353-9d54b9ae5d2e",
     "regions": {
      "3af592c9-3c93-4836-b11f-d3834a90ac29": {
       "attrs": {
        "height": 0.8,
        "width": 0.8,
        "x": 0.1,
        "y": 0.1
       },
       "content": {
        "cell": "6d871054-ffa3-49c0-985f-85112370e513",
        "part": "whole"
       },
       "id": "3af592c9-3c93-4836-b11f-d3834a90ac29"
      }
     }
    },
    "fc0d20ad-83ed-4b8d-b231-c08b2df4ef7a": {
     "id": "fc0d20ad-83ed-4b8d-b231-c08b2df4ef7a",
     "prev": "61d469ad-ec71-41fb-b83d-7aa10167ec08",
     "regions": {
      "7e585f62-eb76-4978-bafb-df7f6741050f": {
       "attrs": {
        "height": 0.8,
        "width": 0.8,
        "x": 0.1,
        "y": 0.1
       },
       "content": {
        "cell": "364acf5d-4c1e-4714-96d0-7c4db40e1765",
        "part": "whole"
       },
       "id": "7e585f62-eb76-4978-bafb-df7f6741050f"
      }
     }
    }
   },
   "themes": {
    "default": "ae919346-8c48-4527-8c6f-ee312a0b3fb6",
    "theme": {
     "ae919346-8c48-4527-8c6f-ee312a0b3fb6": {
      "id": "ae919346-8c48-4527-8c6f-ee312a0b3fb6",
      "palette": {
       "19cc588f-0593-49c9-9f4b-e4d7cc113b1c": {
        "id": "19cc588f-0593-49c9-9f4b-e4d7cc113b1c",
        "rgb": [
         252,
         252,
         252
        ]
       },
       "31af15d2-7e15-44c5-ab5e-e04b16a89eff": {
        "id": "31af15d2-7e15-44c5-ab5e-e04b16a89eff",
        "rgb": [
         68,
         68,
         68
        ]
       },
       "50f92c45-a630-455b-aec3-788680ec7410": {
        "id": "50f92c45-a630-455b-aec3-788680ec7410",
        "rgb": [
         155,
         177,
         192
        ]
       },
       "c5cc3653-2ee1-402a-aba2-7caae1da4f6c": {
        "id": "c5cc3653-2ee1-402a-aba2-7caae1da4f6c",
        "rgb": [
         43,
         126,
         184
        ]
       },
       "efa7f048-9acb-414c-8b04-a26811511a21": {
        "id": "efa7f048-9acb-414c-8b04-a26811511a21",
        "rgb": [
         25.118061674008803,
         73.60176211453744,
         107.4819383259912
        ]
       }
      },
      "rules": {
       "blockquote": {
        "color": "50f92c45-a630-455b-aec3-788680ec7410"
       },
       "code": {
        "font-family": "Anonymous Pro"
       },
       "h1": {
        "color": "c5cc3653-2ee1-402a-aba2-7caae1da4f6c",
        "font-family": "Lato",
        "font-size": 8
       },
       "h2": {
        "color": "c5cc3653-2ee1-402a-aba2-7caae1da4f6c",
        "font-family": "Lato",
        "font-size": 6
       },
       "h3": {
        "color": "50f92c45-a630-455b-aec3-788680ec7410",
        "font-family": "Lato",
        "font-size": 5.5
       },
       "h4": {
        "color": "c5cc3653-2ee1-402a-aba2-7caae1da4f6c",
        "font-family": "Lato",
        "font-size": 5
       },
       "h5": {
        "font-family": "Lato"
       },
       "h6": {
        "font-family": "Lato"
       },
       "h7": {
        "font-family": "Lato"
       },
       "pre": {
        "font-family": "Anonymous Pro",
        "font-size": 4
       }
      },
      "text-base": {
       "font-family": "Merriweather",
       "font-size": 4
      }
     }
    }
   }
  }
 },
 "nbformat": 4,
 "nbformat_minor": 2
}
